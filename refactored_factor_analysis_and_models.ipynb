{
 "cells": [
  {
   "cell_type": "code",
   "execution_count": 2,
   "outputs": [
    {
     "name": "stdout",
     "output_type": "stream",
     "text": [
      "(1048575, 12)\n",
      "<bound method NDFrame.head of               id       date  store_nbr                      family    sales  \\\n",
      "0              0 2013-01-01          1                  AUTOMOTIVE    0.000   \n",
      "1              1 2013-01-01          1                   BABY CARE    0.000   \n",
      "2              2 2013-01-01          1                      BEAUTY    0.000   \n",
      "3              3 2013-01-01          1                   BEVERAGES    0.000   \n",
      "4              4 2013-01-01          1                       BOOKS    0.000   \n",
      "...          ...        ...        ...                         ...      ...   \n",
      "1048570  1048570 2014-08-13          3                     POULTRY  974.098   \n",
      "1048571  1048571 2014-08-13          3              PREPARED FOODS  324.293   \n",
      "1048572  1048572 2014-08-13          3                     PRODUCE   10.000   \n",
      "1048573  1048573 2014-08-13          3  SCHOOL AND OFFICE SUPPLIES    0.000   \n",
      "1048574  1048574 2014-08-13          3                     SEAFOOD   69.116   \n",
      "\n",
      "         onpromotion  transactions  dcoilwtico   city      state type  cluster  \n",
      "0                  0             0         NaN  Quito  Pichincha    D       13  \n",
      "1                  0             0         NaN  Quito  Pichincha    D       13  \n",
      "2                  0             0         NaN  Quito  Pichincha    D       13  \n",
      "3                  0             0         NaN  Quito  Pichincha    D       13  \n",
      "4                  0             0         NaN  Quito  Pichincha    D       13  \n",
      "...              ...           ...         ...    ...        ...  ...      ...  \n",
      "1048570            1          2991       97.57  Quito  Pichincha    D        8  \n",
      "1048571            0          2991       97.57  Quito  Pichincha    D        8  \n",
      "1048572            1          2991       97.57  Quito  Pichincha    D        8  \n",
      "1048573            0          2991       97.57  Quito  Pichincha    D        8  \n",
      "1048574            0          2991       97.57  Quito  Pichincha    D        8  \n",
      "\n",
      "[1048575 rows x 12 columns]>\n"
     ]
    }
   ],
   "source": [
    "import pandas as pd\n",
    "df = pd.read_excel('all_ex_holidays.xlsx')\n",
    "print(df.shape)\n",
    "print(df.head)"
   ],
   "metadata": {
    "collapsed": false,
    "pycharm": {
     "name": "#%%\n"
    }
   }
  },
  {
   "cell_type": "code",
   "execution_count": 3,
   "outputs": [],
   "source": [
    "from sklearn.preprocessing import StandardScaler\n",
    "from sklearn.model_selection import train_test_split\n",
    "def data_pipeline(df):\n",
    "    # Fill missing oil prices\n",
    "    df['dcoilwtico'] = df['dcoilwtico'].fillna(method='ffill').fillna(method='bfill')\n",
    "\n",
    "\n",
    "    df = pd.get_dummies(df, columns=['family', 'type', 'cluster'], drop_first=True)\n",
    "    # Convert date column to datetime\n",
    "    df['date'] = pd.to_datetime(df['date'])\n",
    "\n",
    "    # Extract year, month, and day of the week\n",
    "    df['year'] = df['date'].dt.year\n",
    "    df['month'] = df['date'].dt.month\n",
    "    df['day_of_week'] = df['date'].dt.dayofweek\n",
    "    # Used chatGPT for help in some sections\n",
    "\n",
    "    # Select numerical columns to scale\n",
    "    numerical_features = ['transactions', 'onpromotion', 'dcoilwtico', 'year', 'month', 'day_of_week']\n",
    "    scaler = StandardScaler()\n",
    "    df[numerical_features] = scaler.fit_transform(df[numerical_features])\n",
    "\n",
    "    X = df.drop(['id', 'sales'], axis=1)\n",
    "    y = df['sales']\n",
    "    y = df['sales']\n",
    "\n",
    "    # 80/20 split\n",
    "    X_train, X_test, y_train, y_test = train_test_split(X, y, test_size=0.2, shuffle=False)\n",
    "    X_train = X_train.drop(['date'], axis=1, errors='ignore')\n",
    "    X_test = X_test.drop(['date'], axis=1, errors='ignore')\n",
    "    # One-hot encoding to categorical columns\n",
    "    X_train = pd.get_dummies(X_train, columns=['city', 'state'], drop_first=True)\n",
    "    X_test = pd.get_dummies(X_test, columns=['city', 'state'], drop_first=True)\n",
    "\n",
    "    X_train, X_test = X_train.align(X_test, join='left', axis=1)\n",
    "    X_test = X_test.fillna(0)\n",
    "    return X_train, X_test, y_train, y_test"
   ],
   "metadata": {
    "collapsed": false,
    "pycharm": {
     "name": "#%%\n"
    }
   }
  },
  {
   "cell_type": "code",
   "execution_count": 5,
   "outputs": [
    {
     "name": "stderr",
     "output_type": "stream",
     "text": [
      "C:\\Users\\Shruti Bala\\AppData\\Local\\Temp\\ipykernel_28448\\2115539270.py:5: FutureWarning: Series.fillna with 'method' is deprecated and will raise in a future version. Use obj.ffill() or obj.bfill() instead.\n",
      "  df['dcoilwtico'] = df['dcoilwtico'].fillna(method='ffill').fillna(method='bfill')\n"
     ]
    }
   ],
   "source": [
    "X_train, X_test, y_train, y_test = data_pipeline(df)"
   ],
   "metadata": {
    "collapsed": false,
    "pycharm": {
     "name": "#%%\n"
    }
   }
  },
  {
   "cell_type": "code",
   "execution_count": 6,
   "outputs": [
    {
     "name": "stdout",
     "output_type": "stream",
     "text": [
      "R² Score: 0.5644981774555128\n",
      "RMSE: 569.908551650841\n"
     ]
    },
    {
     "name": "stderr",
     "output_type": "stream",
     "text": [
      "C:\\Users\\Shruti Bala\\AppData\\Local\\Programs\\Python\\Python310\\lib\\site-packages\\sklearn\\metrics\\_regression.py:492: FutureWarning: 'squared' is deprecated in version 1.4 and will be removed in 1.6. To calculate the root mean squared error, use the function'root_mean_squared_error'.\n",
      "  warnings.warn(\n"
     ]
    }
   ],
   "source": [
    "from sklearn.linear_model import LinearRegression\n",
    "from sklearn.metrics import mean_squared_error, r2_score\n",
    "\n",
    "# Initialize and train the model\n",
    "model = LinearRegression()\n",
    "model.fit(X_train, y_train)\n",
    "\n",
    "y_pred = model.predict(X_test)\n",
    "\n",
    "r2 = r2_score(y_test, y_pred)\n",
    "rmse = mean_squared_error(y_test, y_pred, squared=False)\n",
    "\n",
    "print(f\"R² Score: {r2}\")\n",
    "print(f\"RMSE: {rmse}\")"
   ],
   "metadata": {
    "collapsed": false,
    "pycharm": {
     "name": "#%%\n"
    }
   }
  },
  {
   "cell_type": "code",
   "execution_count": 8,
   "outputs": [
    {
     "name": "stderr",
     "output_type": "stream",
     "text": [
      "C:\\Users\\Shruti Bala\\AppData\\Local\\Temp\\ipykernel_28448\\2115539270.py:5: FutureWarning: Series.fillna with 'method' is deprecated and will raise in a future version. Use obj.ffill() or obj.bfill() instead.\n",
      "  df['dcoilwtico'] = df['dcoilwtico'].fillna(method='ffill').fillna(method='bfill')\n"
     ]
    },
    {
     "name": "stdout",
     "output_type": "stream",
     "text": [
      "KNN R² Score: 0.890513846475384\n",
      "KNN RMSE: 267.60051623644614\n"
     ]
    },
    {
     "name": "stderr",
     "output_type": "stream",
     "text": [
      "C:\\Users\\Shruti Bala\\AppData\\Local\\Programs\\Python\\Python310\\lib\\site-packages\\sklearn\\metrics\\_regression.py:492: FutureWarning: 'squared' is deprecated in version 1.4 and will be removed in 1.6. To calculate the root mean squared error, use the function'root_mean_squared_error'.\n",
      "  warnings.warn(\n"
     ]
    }
   ],
   "source": [
    "from sklearn.neighbors import KNeighborsRegressor\n",
    "\n",
    "df_sample = df.sample(frac=0.5, random_state=42)  # Use 50% of the data because when we use the full dataset KNN takes too long to run\n",
    "X_train, X_test, y_train, y_test = data_pipeline(df_sample)\n",
    "\n",
    "n_neighbors = 5\n",
    "knn_model = KNeighborsRegressor(n_neighbors=n_neighbors)\n",
    "knn_model.fit(X_train, y_train)\n",
    "\n",
    "y_pred = knn_model.predict(X_test)\n",
    "\n",
    "r2 = r2_score(y_test, y_pred)\n",
    "rmse = mean_squared_error(y_test, y_pred, squared=False)\n",
    "\n",
    "print(f\"KNN R² Score: {r2}\")\n",
    "print(f\"KNN RMSE: {rmse}\")"
   ],
   "metadata": {
    "collapsed": false,
    "pycharm": {
     "name": "#%%\n"
    }
   }
  }
 ],
 "metadata": {
  "kernelspec": {
   "display_name": "Python 3",
   "language": "python",
   "name": "python3"
  },
  "language_info": {
   "codemirror_mode": {
    "name": "ipython",
    "version": 2
   },
   "file_extension": ".py",
   "mimetype": "text/x-python",
   "name": "python",
   "nbconvert_exporter": "python",
   "pygments_lexer": "ipython2",
   "version": "2.7.6"
  }
 },
 "nbformat": 4,
 "nbformat_minor": 0
}