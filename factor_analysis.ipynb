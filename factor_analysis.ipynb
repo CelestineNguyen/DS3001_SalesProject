{
  "nbformat": 4,
  "nbformat_minor": 0,
  "metadata": {
    "colab": {
      "provenance": [],
      "authorship_tag": "ABX9TyOePOJ9qjpG3IQH+0N7HRDv",
      "include_colab_link": true
    },
    "kernelspec": {
      "name": "python3",
      "display_name": "Python 3"
    },
    "language_info": {
      "name": "python"
    }
  },
  "cells": [
    {
      "cell_type": "markdown",
      "metadata": {
        "id": "view-in-github",
        "colab_type": "text"
      },
      "source": [
        "<a href=\"https://colab.research.google.com/github/CelestineNguyen/DS3001_SalesProject/blob/main/factor_analysis.ipynb\" target=\"_parent\"><img src=\"https://colab.research.google.com/assets/colab-badge.svg\" alt=\"Open In Colab\"/></a>"
      ]
    },
    {
      "cell_type": "code",
      "execution_count": 1,
      "metadata": {
        "colab": {
          "base_uri": "https://localhost:8080/"
        },
        "id": "CinMz2d6-qOP",
        "outputId": "284d2387-4668-46f4-b4c9-a77882946d05"
      },
      "outputs": [
        {
          "output_type": "stream",
          "name": "stdout",
          "text": [
            "Cloning into 'DS3001_SalesProject'...\n",
            "remote: Enumerating objects: 84, done.\u001b[K\n",
            "remote: Counting objects: 100% (84/84), done.\u001b[K\n",
            "remote: Compressing objects: 100% (70/70), done.\u001b[K\n",
            "remote: Total 84 (delta 33), reused 48 (delta 9), pack-reused 0 (from 0)\u001b[K\n",
            "Receiving objects: 100% (84/84), 1.53 MiB | 5.49 MiB/s, done.\n",
            "Resolving deltas: 100% (33/33), done.\n",
            "Filtering content: 100% (8/8), 333.14 MiB | 28.22 MiB/s, done.\n"
          ]
        }
      ],
      "source": [
        "! git clone https://github.com/CelestineNguyen/DS3001_SalesProject.git"
      ]
    },
    {
      "cell_type": "code",
      "source": [
        "import pandas as pd\n",
        "import numpy as np"
      ],
      "metadata": {
        "id": "oIerkFWhBuHJ"
      },
      "execution_count": 2,
      "outputs": []
    },
    {
      "cell_type": "code",
      "source": [
        "df = pd.read_csv('/content/DS3001_SalesProject/clean_data/all_ex_holidays.csv', low_memory=False)\n",
        "print(df.shape)\n",
        "print(df.head)"
      ],
      "metadata": {
        "colab": {
          "base_uri": "https://localhost:8080/"
        },
        "id": "ne9ChVVDBgUz",
        "outputId": "7a1af2d5-64aa-4f98-b5a1-38b7b7e1c21f"
      },
      "execution_count": 3,
      "outputs": [
        {
          "output_type": "stream",
          "name": "stdout",
          "text": [
            "(3000888, 12)\n",
            "<bound method NDFrame.head of               id        date  store_nbr                      family     sales  \\\n",
            "0              0  2013-01-01          1                  AUTOMOTIVE     0.000   \n",
            "1              1  2013-01-01          1                   BABY CARE     0.000   \n",
            "2              2  2013-01-01          1                      BEAUTY     0.000   \n",
            "3              3  2013-01-01          1                   BEVERAGES     0.000   \n",
            "4              4  2013-01-01          1                       BOOKS     0.000   \n",
            "...          ...         ...        ...                         ...       ...   \n",
            "3000883  3000883  2017-08-15          9                     POULTRY   438.133   \n",
            "3000884  3000884  2017-08-15          9              PREPARED FOODS   154.553   \n",
            "3000885  3000885  2017-08-15          9                     PRODUCE  2419.729   \n",
            "3000886  3000886  2017-08-15          9  SCHOOL AND OFFICE SUPPLIES   121.000   \n",
            "3000887  3000887  2017-08-15          9                     SEAFOOD    16.000   \n",
            "\n",
            "         onpromotion  transactions  dcoilwtico   city      state type  cluster  \n",
            "0                  0           0.0         NaN  Quito  Pichincha    D       13  \n",
            "1                  0           0.0         NaN  Quito  Pichincha    D       13  \n",
            "2                  0           0.0         NaN  Quito  Pichincha    D       13  \n",
            "3                  0           0.0         NaN  Quito  Pichincha    D       13  \n",
            "4                  0           0.0         NaN  Quito  Pichincha    D       13  \n",
            "...              ...           ...         ...    ...        ...  ...      ...  \n",
            "3000883            0        2155.0       47.57  Quito  Pichincha    B        6  \n",
            "3000884            1        2155.0       47.57  Quito  Pichincha    B        6  \n",
            "3000885          148        2155.0       47.57  Quito  Pichincha    B        6  \n",
            "3000886            8        2155.0       47.57  Quito  Pichincha    B        6  \n",
            "3000887            0        2155.0       47.57  Quito  Pichincha    B        6  \n",
            "\n",
            "[3000888 rows x 12 columns]>\n"
          ]
        }
      ]
    },
    {
      "cell_type": "code",
      "source": [
        "# Check missing values\n",
        "print(df.isnull().sum())"
      ],
      "metadata": {
        "colab": {
          "base_uri": "https://localhost:8080/"
        },
        "id": "WKpLrVtgAGt0",
        "outputId": "3e37bb5a-15b2-4d4f-f60f-3c1aa212bf1c"
      },
      "execution_count": 4,
      "outputs": [
        {
          "output_type": "stream",
          "name": "stdout",
          "text": [
            "id                   0\n",
            "date                 0\n",
            "store_nbr            0\n",
            "family               0\n",
            "sales                0\n",
            "onpromotion          0\n",
            "transactions         0\n",
            "dcoilwtico      928422\n",
            "city                 0\n",
            "state                0\n",
            "type                 0\n",
            "cluster              0\n",
            "dtype: int64\n"
          ]
        }
      ]
    },
    {
      "cell_type": "code",
      "source": [
        "# Fill missing oil prices\n",
        "df['dcoilwtico'] = df['dcoilwtico'].fillna(method='ffill').fillna(method='bfill')\n",
        "\n",
        "# Verify there are no more missing values\n",
        "print(df.isnull().sum())"
      ],
      "metadata": {
        "colab": {
          "base_uri": "https://localhost:8080/"
        },
        "id": "YdblfghMApeL",
        "outputId": "f0e969bc-6f57-4403-950b-e840579ffb43"
      },
      "execution_count": 5,
      "outputs": [
        {
          "output_type": "stream",
          "name": "stderr",
          "text": [
            "<ipython-input-5-b97350ab6e6a>:2: FutureWarning: Series.fillna with 'method' is deprecated and will raise in a future version. Use obj.ffill() or obj.bfill() instead.\n",
            "  df['dcoilwtico'] = df['dcoilwtico'].fillna(method='ffill').fillna(method='bfill')\n"
          ]
        },
        {
          "output_type": "stream",
          "name": "stdout",
          "text": [
            "id              0\n",
            "date            0\n",
            "store_nbr       0\n",
            "family          0\n",
            "sales           0\n",
            "onpromotion     0\n",
            "transactions    0\n",
            "dcoilwtico      0\n",
            "city            0\n",
            "state           0\n",
            "type            0\n",
            "cluster         0\n",
            "dtype: int64\n"
          ]
        }
      ]
    },
    {
      "cell_type": "code",
      "source": [
        "# One-hot encode family, type, and cluster\n",
        "df = pd.get_dummies(df, columns=['family', 'type', 'cluster'], drop_first=True)"
      ],
      "metadata": {
        "id": "9if66UdpBVLX"
      },
      "execution_count": 6,
      "outputs": []
    },
    {
      "cell_type": "code",
      "source": [
        "# Convert date column to datetime\n",
        "df['date'] = pd.to_datetime(df['date'])\n",
        "\n",
        "# Extract year, month, and day of the week\n",
        "df['year'] = df['date'].dt.year\n",
        "df['month'] = df['date'].dt.month\n",
        "df['day_of_week'] = df['date'].dt.dayofweek"
      ],
      "metadata": {
        "id": "osAhNn40Be5L"
      },
      "execution_count": 7,
      "outputs": []
    },
    {
      "cell_type": "code",
      "source": [
        "from sklearn.preprocessing import StandardScaler\n",
        "# Used chatGPT for help in some sections\n",
        "\n",
        "# Select numerical columns to scale\n",
        "numerical_features = ['transactions', 'onpromotion', 'dcoilwtico', 'year', 'month', 'day_of_week']\n",
        "scaler = StandardScaler()\n",
        "df[numerical_features] = scaler.fit_transform(df[numerical_features])\n",
        "\n",
        "X = df.drop(['id', 'sales'], axis=1)\n",
        "y = df['sales']"
      ],
      "metadata": {
        "id": "QiVyq0-GCWJc"
      },
      "execution_count": 8,
      "outputs": []
    },
    {
      "cell_type": "code",
      "source": [
        "from sklearn.model_selection import train_test_split\n",
        "\n",
        "# 80/20 split\n",
        "X_train, X_test, y_train, y_test = train_test_split(X, y, test_size=0.2, shuffle=False)\n"
      ],
      "metadata": {
        "id": "93nH7pcHCj9o"
      },
      "execution_count": 9,
      "outputs": []
    },
    {
      "cell_type": "code",
      "source": [
        "print(X_train.dtypes)\n",
        "X_train = X_train.drop(['date'], axis=1, errors='ignore')\n",
        "X_test = X_test.drop(['date'], axis=1, errors='ignore')"
      ],
      "metadata": {
        "colab": {
          "base_uri": "https://localhost:8080/"
        },
        "id": "WCmgsuGZDQRF",
        "outputId": "17163a35-4f0e-4988-c744-e439bbc37435"
      },
      "execution_count": 10,
      "outputs": [
        {
          "output_type": "stream",
          "name": "stdout",
          "text": [
            "date            datetime64[ns]\n",
            "store_nbr                int64\n",
            "onpromotion            float64\n",
            "transactions           float64\n",
            "dcoilwtico             float64\n",
            "                     ...      \n",
            "cluster_16                bool\n",
            "cluster_17                bool\n",
            "year                   float64\n",
            "month                  float64\n",
            "day_of_week            float64\n",
            "Length: 62, dtype: object\n"
          ]
        }
      ]
    },
    {
      "cell_type": "code",
      "source": [
        "# One-hot encoding to categorical columns\n",
        "X_train = pd.get_dummies(X_train, columns=['city', 'state'], drop_first=True)\n",
        "X_test = pd.get_dummies(X_test, columns=['city', 'state'], drop_first=True)\n",
        "\n",
        "X_train, X_test = X_train.align(X_test, join='left', axis=1)\n",
        "X_test = X_test.fillna(0)"
      ],
      "metadata": {
        "id": "qoOVypITD8NU"
      },
      "execution_count": 11,
      "outputs": []
    },
    {
      "cell_type": "code",
      "source": [
        "from sklearn.linear_model import LinearRegression\n",
        "from sklearn.metrics import mean_squared_error, r2_score\n",
        "\n",
        "# Initialize and train the model\n",
        "model = LinearRegression()\n",
        "model.fit(X_train, y_train)\n",
        "\n",
        "y_pred = model.predict(X_test)\n",
        "\n",
        "r2 = r2_score(y_test, y_pred)\n",
        "rmse = mean_squared_error(y_test, y_pred, squared=False)\n",
        "\n",
        "print(f\"R² Score: {r2}\")\n",
        "print(f\"RMSE: {rmse}\")\n"
      ],
      "metadata": {
        "colab": {
          "base_uri": "https://localhost:8080/"
        },
        "id": "9_qH3GZfC0MU",
        "outputId": "daeaa7b7-2d50-4481-b658-3dc76cef54e8"
      },
      "execution_count": 12,
      "outputs": [
        {
          "output_type": "stream",
          "name": "stdout",
          "text": [
            "R² Score: 0.6180420266491968\n",
            "RMSE: 841.3941328155479\n"
          ]
        },
        {
          "output_type": "stream",
          "name": "stderr",
          "text": [
            "/usr/local/lib/python3.10/dist-packages/sklearn/metrics/_regression.py:492: FutureWarning: 'squared' is deprecated in version 1.4 and will be removed in 1.6. To calculate the root mean squared error, use the function'root_mean_squared_error'.\n",
            "  warnings.warn(\n"
          ]
        }
      ]
    },
    {
      "cell_type": "code",
      "source": [
        "mean_sales = y_test.mean()\n",
        "print(f\"Mean Sales: {mean_sales}\")"
      ],
      "metadata": {
        "colab": {
          "base_uri": "https://localhost:8080/"
        },
        "id": "XWWVTbfZFHY_",
        "outputId": "1171a691-c852-4201-ed7a-c4408a06d533"
      },
      "execution_count": 13,
      "outputs": [
        {
          "output_type": "stream",
          "name": "stdout",
          "text": [
            "Mean Sales: 475.9209068881851\n"
          ]
        }
      ]
    },
    {
      "cell_type": "code",
      "source": [
        "import matplotlib.pyplot as plt\n",
        "import numpy as np\n",
        "import pandas as pd\n",
        "\n",
        "# Get coefficients and feature names\n",
        "coefficients = model.coef_\n",
        "feature_names = X_train.columns\n",
        "\n",
        "# Combine feature names and coefficients into a DataFrame\n",
        "coef_df = pd.DataFrame({'feature': feature_names, 'coefficient': coefficients})\n",
        "\n",
        "# Identify groups for aggregation\n",
        "groups = {\n",
        "    'Family': coef_df[coef_df['feature'].str.startswith('family')]['coefficient'].abs().sum(),\n",
        "    'City': coef_df[coef_df['feature'].str.startswith('city')]['coefficient'].abs().sum(),\n",
        "    'Cluster': coef_df[coef_df['feature'].str.startswith('cluster')]['coefficient'].abs().sum(),\n",
        "    'State': coef_df[coef_df['feature'].str.startswith('state')]['coefficient'].abs().sum(),\n",
        "    'Promotion': coef_df[coef_df['feature'].str.startswith('onpromotion')]['coefficient'].abs().sum(),\n",
        "    'Transactions': coef_df[coef_df['feature'] == 'transactions']['coefficient'].abs().sum(),\n",
        "    'Oil Price': coef_df[coef_df['feature'] == 'dcoilwtico']['coefficient'].abs().sum()\n",
        "}\n",
        "\n",
        "# Convert group dictionary to DataFrame\n",
        "group_df = pd.DataFrame(list(groups.items()), columns=['Factor Group', 'Total Impact'])\n",
        "\n",
        "# Sort by impact\n",
        "group_df = group_df.sort_values(by='Total Impact', ascending=False)\n",
        "\n",
        "# Plot the grouped feature importances\n",
        "plt.figure(figsize=(10, 6))\n",
        "plt.barh(group_df['Factor Group'], group_df['Total Impact'], color='skyblue')\n",
        "plt.title('Factor Importances: Linear Regression')\n",
        "plt.xlabel('Total Absolute Coefficient Impact')\n",
        "plt.ylabel('Factor Group')\n",
        "plt.tight_layout()\n",
        "plt.show()\n",
        "\n"
      ],
      "metadata": {
        "colab": {
          "base_uri": "https://localhost:8080/",
          "height": 607
        },
        "id": "9DeO21BuWNxd",
        "outputId": "34e29bc0-cc64-481f-96dd-15ab478206f6"
      },
      "execution_count": 23,
      "outputs": [
        {
          "output_type": "display_data",
          "data": {
            "text/plain": [
              "<Figure size 1000x600 with 1 Axes>"
            ],
            "image/png": "[encoded data removed]"
          },
          "metadata": {}
        }
      ]
    },
    {
      "cell_type": "code",
      "source": [
        "from sklearn.neighbors import KNeighborsRegressor\n",
        "from sklearn.metrics import mean_squared_error, r2_score\n",
        "\n",
        "# Initialize the KNN regressor\n",
        "knn = KNeighborsRegressor(n_neighbors=5)\n",
        "knn.fit(X_train_scaled, y_train)\n",
        "\n",
        "y_pred_knn = knn.predict(X_test_scaled)\n",
        "\n",
        "r2_knn = r2_score(y_test, y_pred_knn)\n",
        "rmse_knn = mean_squared_error(y_test, y_pred_knn, squared=False)\n",
        "\n",
        "print(f\"KNN R² Score: {r2_knn}\")\n",
        "print(f\"KNN RMSE: {rmse_knn}\")\n"
      ],
      "metadata": {
        "id": "YdwpibCA-Qs3"
      },
      "execution_count": null,
      "outputs": []
    }
  ]
}