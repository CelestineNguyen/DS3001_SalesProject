{
  "nbformat": 4,
  "nbformat_minor": 0,
  "metadata": {
    "colab": {
      "provenance": [],
      "include_colab_link": true
    },
    "kernelspec": {
      "name": "python3",
      "display_name": "Python 3"
    },
    "language_info": {
      "name": "python"
    }
  },
  "cells": [
    {
      "cell_type": "markdown",
      "metadata": {
        "id": "view-in-github",
        "colab_type": "text"
      },
      "source": [
        "<a href=\"https://colab.research.google.com/github/CelestineNguyen/DS3001_SalesProject/blob/main/ProjectWrangling.ipynb\" target=\"_parent\"><img src=\"https://colab.research.google.com/assets/colab-badge.svg\" alt=\"Open In Colab\"/></a>"
      ]
    },
    {
      "cell_type": "markdown",
      "source": [
        "**Data Wrangling/EDA for the Store Sales Kaggle Competition/DS Project**\n",
        "\n",
        "Name, Computing Id:\n",
        "1. Esha Sharma, exy8eb\n",
        "2. ADD YOUR NAMES AND COMPUTING IDs"
      ],
      "metadata": {
        "id": "BLuQvvgBht9p"
      }
    },
    {
      "cell_type": "code",
      "execution_count": null,
      "metadata": {
        "id": "_ua7qKC-54CX"
      },
      "outputs": [],
      "source": [
        "#Data Set: https://www.kaggle.com/competitions/store-sales-time-series-forecasting"
      ]
    },
    {
      "cell_type": "markdown",
      "source": [
        "**Describe key values in the dataset. **\n",
        "\n",
        "The Stores Sales Kaggle Competition comes with 6 csv files with it.\n",
        "1. *samplesubmission.csv*: This csv includes two vars (id, sales). The id represents the product id and the sales represents the sales that the product will have in the future (in this competition it will be the next 15 days after the last recorded date). This csv is just a csv that shows the format for the kaggle competition submission. Both of these are key variables.\n",
        "\n",
        "2. *train.csv*: This csv contains training data with store_nbr, family, onpromotion, and sales. The key variables here are the sales and family variables as we can categorize the item and also see the total sales for that product on a certain date.\n",
        "\n",
        "3. *test.csv*: Simply contains the 15 dates that we will be creating target sales numbers for.\n",
        "\n",
        "4. *stores.csv*: A Csv that contains all the different Favorita Grocery Stores. It has the following varaibles: city, state, type, and cluster. Cluster allows us to see which stores are in relatively similar locations. The city could be a key variable as heavily populated cities could be an indicator of more sales for a particular product.\n",
        "\n",
        "5. *oil.csv*: Includes dates and the daily oil price: Due to Ecuador being oil-dependent, the economy (therefore prices and hence sales) may also get affected. This could be a key variable to be investigated.\n",
        "\n",
        "6. *holidays_events.csv*: Includes date, type, locale, locale_name, description\n",
        "transferred variables. Holidays can close stores on the specific day, but can increase sales of certain products around the holiday days. It is also good to note any government holidays that mean people have a day off, but the stores are still open. Hence, the date and type along with transferred variables could be key variables to finding out any patterns in sales for products."
      ],
      "metadata": {
        "id": "c5iVCnCer9QI"
      }
    },
    {
      "cell_type": "code",
      "source": [
        "#Relevant Plots - Jenn"
      ],
      "metadata": {
        "id": "MSeeWaWpsC1L"
      },
      "execution_count": null,
      "outputs": []
    },
    {
      "cell_type": "code",
      "source": [
        "#Relevant Statistics Tables - Celestine"
      ],
      "metadata": {
        "id": "OrLyMjGvsEPI"
      },
      "execution_count": null,
      "outputs": []
    },
    {
      "cell_type": "markdown",
      "source": [
        "What is in your data?\n",
        "This data describes the sales of the product families sold at Favorita stores located in Ecuador. The train.csv dataset includes an id, date the item was sold, store nmbr which is the store the item was sold at, family which is what type of item it was, # sales for that item, and on promotion which indicates if the item was on sale or not. All of the data is numeric except for the family column. There are 1048574 rows of data in the dataset."
      ],
      "metadata": {
        "id": "Sz0Tq7jHsHFz"
      }
    },
    {
      "cell_type": "markdown",
      "source": [
        "How will these data be useful for studying the phenomenon you're interested in? - Tulsi"
      ],
      "metadata": {
        "id": "sLnXXiSZsI1B"
      }
    },
    {
      "cell_type": "markdown",
      "source": [
        "What are the challenges you've resolved or expect to face in using them? - Chetu"
      ],
      "metadata": {
        "id": "7w-xS24LsKiC"
      }
    }
  ]
}